{
  "nbformat": 4,
  "nbformat_minor": 0,
  "metadata": {
    "colab": {
      "provenance": []
    },
    "kernelspec": {
      "name": "python3",
      "display_name": "Python 3"
    },
    "language_info": {
      "name": "python"
    }
  },
  "cells": [
    {
      "cell_type": "markdown",
      "source": [
        "**Rock,Paper,Scissors Python Project:3**"
      ],
      "metadata": {
        "id": "PBoiajSP-zAr"
      }
    },
    {
      "cell_type": "code",
      "execution_count": null,
      "metadata": {
        "colab": {
          "base_uri": "https://localhost:8080/"
        },
        "id": "o1D84UQLgr44",
        "outputId": "a3845ca2-81f0-4cd1-c343-e638687238f3"
      },
      "outputs": [
        {
          "output_type": "stream",
          "name": "stdout",
          "text": [
            "Enter rock, paper, or scissors (or 'quit' to exit): Rock\n",
            "\n",
            "You chose: rock\n",
            "Computer chose: paper\n",
            "\n",
            "You lose! 😢\n",
            "------------------------------\n",
            "Enter rock, paper, or scissors (or 'quit' to exit): Paper\n",
            "\n",
            "You chose: paper\n",
            "Computer chose: paper\n",
            "\n",
            "It's a tie!\n",
            "------------------------------\n",
            "Enter rock, paper, or scissors (or 'quit' to exit): Paper\n",
            "\n",
            "You chose: paper\n",
            "Computer chose: paper\n",
            "\n",
            "It's a tie!\n",
            "------------------------------\n"
          ]
        }
      ],
      "source": [
        "\n",
        "import random\n",
        "\n",
        "# List of possible choices\n",
        "choices = [\"rock\", \"paper\", \"scissors\"]\n",
        "\n",
        "while True:\n",
        "    # Get user choice\n",
        "    user_choice = input(\"Enter rock, paper, or scissors (or 'quit' to exit): \").lower()\n",
        "\n",
        "    if user_choice == \"quit\":\n",
        "        print(\"Thanks for playing!\")\n",
        "        break  # Exit the loop\n",
        "\n",
        "    if user_choice not in choices:\n",
        "        print(\"Invalid choice! Try again.\")\n",
        "        continue  # Ask again\n",
        "\n",
        "    # Computer randomly selects a choice\n",
        "    computer_choice = random.choice(choices)\n",
        "\n",
        "    print(f\"\\nYou chose: {user_choice}\")\n",
        "    print(f\"Computer chose: {computer_choice}\\n\")\n",
        "\n",
        "    # Determine the winner\n",
        "    if user_choice == computer_choice:\n",
        "        print(\"It's a tie!\")\n",
        "    elif (user_choice == \"rock\" and computer_choice == \"scissors\") or \\\n",
        "         (user_choice == \"paper\" and computer_choice == \"rock\") or \\\n",
        "         (user_choice == \"scissors\" and computer_choice == \"paper\"):\n",
        "        print(\"You win! 🎉\")\n",
        "    else:\n",
        "        print(\"You lose! 😢\")\n",
        "\n",
        "    print(\"-\" * 30)  # Separator line"
      ]
    },
    {
      "cell_type": "markdown",
      "source": [],
      "metadata": {
        "id": "nrQjvsv9-x8M"
      }
    }
  ]
}